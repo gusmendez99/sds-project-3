{
 "cells": [
  {
   "cell_type": "markdown",
   "metadata": {
    "scrolled": true
   },
   "source": [
    "# Ataque de evasión\n",
    "---\n",
    "\n",
    "#### RobertoFigueroa, Michele Benvenuto, Gustavo Méndez\n",
    "Universidad Del Valle de Guatemala \\Security Data Science \\Proyecto 3 \n",
    "\n",
    "---"
   ]
  },
  {
   "cell_type": "markdown",
   "metadata": {},
   "source": [
    "## Modelo original"
   ]
  },
  {
   "cell_type": "code",
   "execution_count": 1,
   "metadata": {},
   "outputs": [
    {
     "name": "stderr",
     "output_type": "stream",
     "text": [
      "c:\\users\\hp\\appdata\\local\\programs\\python\\python38\\lib\\site-packages\\art\\estimators\\certification\\__init__.py:12: UserWarning: PyTorch not found. Not importing DeepZ functionality\n",
      "  warnings.warn(\"PyTorch not found. Not importing DeepZ functionality\")\n"
     ]
    }
   ],
   "source": [
    "import pandas as pd\n",
    "import numpy as np\n",
    "import matplotlib.pyplot as plt\n",
    "import seaborn as sns\n",
    "import matplotlib.image as mpimg\n",
    "\n",
    "import tensorflow as tf\n",
    "from tensorflow.keras.layers import (\n",
    "    Conv2D, \n",
    "    MaxPooling2D,\n",
    "    Dense,\n",
    "    Rescaling,\n",
    "    Flatten,\n",
    "    Dropout\n",
    ")\n",
    "\n",
    "from keras.models import Sequential\n",
    "\n",
    "from sklearn.metrics import (\n",
    "    confusion_matrix, \n",
    "    precision_score, \n",
    "    recall_score, \n",
    "    f1_score, \n",
    "    plot_confusion_matrix, \n",
    "    accuracy_score\n",
    ")\n",
    "\n",
    "from art.estimators.classification import KerasClassifier\n",
    "from sklearn.model_selection import train_test_split\n",
    "\n",
    "import os\n",
    "import warnings\n",
    "warnings.filterwarnings('ignore')\n",
    "\n",
    "%matplotlib inline\n",
    "if tf.executing_eagerly():\n",
    "    tf.compat.v1.disable_eager_execution()"
   ]
  },
  {
   "cell_type": "code",
   "execution_count": 2,
   "metadata": {},
   "outputs": [],
   "source": [
    "def get_train_test(data_dir, batch_size=32, img_height=64, img_width=64):\n",
    "    \n",
    "    ig = tf.keras.preprocessing.image.ImageDataGenerator()\n",
    "    data = ig.flow_from_directory(directory=data_dir, \n",
    "                                     target_size=(img_height, img_width), \n",
    "                                     batch_size=batch_size,\n",
    "                                     seed=123)\n",
    "\n",
    "    X, y = data.next()\n",
    "    \n",
    "    return X, y"
   ]
  },
  {
   "cell_type": "code",
   "execution_count": 3,
   "metadata": {},
   "outputs": [],
   "source": [
    "def load_model(img_height, img_width, num_classes):\n",
    "    model = Sequential([\n",
    "    Rescaling(1./255, input_shape=(img_height, img_width, 3)),\n",
    "    Conv2D(16, 3, padding='same', activation='relu'),\n",
    "    MaxPooling2D(),\n",
    "    Conv2D(32, 3, padding='same', activation='relu'),\n",
    "    MaxPooling2D(),\n",
    "    Conv2D(64, 3, padding='same', activation='relu'),\n",
    "    MaxPooling2D(),\n",
    "    Dropout(0.2),\n",
    "    Flatten(),\n",
    "    Dense(128, activation='relu'),\n",
    "    Dense(num_classes)\n",
    "    ])\n",
    "    \n",
    "    model.compile(loss=tf.keras.losses.CategoricalCrossentropy(from_logits=True), optimizer=\"adam\",\n",
    "                                                                  metrics=['accuracy'])\n",
    "    \n",
    "    return model"
   ]
  },
  {
   "cell_type": "code",
   "execution_count": 4,
   "metadata": {},
   "outputs": [],
   "source": [
    "def get_metrics(y_val, predictions, model_name):\n",
    "    conf_matrix = confusion_matrix(y_val, predictions, labels=list(range(1,26)))\n",
    "    accu = accuracy_score(y_val, predictions)\n",
    "    _recall_score = recall_score(y_val, predictions, average='weighted')\n",
    "    _precision_score = precision_score(y_val, predictions, average='weighted')\n",
    "    _f1_score = f1_score(y_val, predictions, average='weighted')\n",
    "\n",
    "    print(f\"\\n---Metrics for {model_name}---\")\n",
    "    #print(\"\\n Confusion Matrix\\n\", conf_matrix)\n",
    "    print(\"\\n Accuracy\", accu)\n",
    "    print(\"\\n Precision\", _precision_score)\n",
    "    print(\"\\n Recall\", _recall_score)\n",
    "    print(\"\\n F1 Score\", _f1_score)\n",
    "    \n",
    "    return conf_matrix"
   ]
  },
  {
   "cell_type": "markdown",
   "metadata": {},
   "source": [
    "### Entrenando el modelo original\n"
   ]
  },
  {
   "cell_type": "code",
   "execution_count": 5,
   "metadata": {},
   "outputs": [
    {
     "name": "stdout",
     "output_type": "stream",
     "text": [
      "Found 9339 images belonging to 25 classes.\n"
     ]
    }
   ],
   "source": [
    "DIR = './data/malimg_paper_dataset_imgs/' \n",
    "batch_size=9339\n",
    "img_height=64\n",
    "img_width=64\n",
    "X, y = get_train_test(DIR, batch_size, img_height, img_width)"
   ]
  },
  {
   "cell_type": "code",
   "execution_count": 6,
   "metadata": {},
   "outputs": [],
   "source": [
    "X_train, X_test, y_train, y_test = train_test_split(X, y, train_size=0.8, random_state=79)"
   ]
  },
  {
   "cell_type": "code",
   "execution_count": 7,
   "metadata": {},
   "outputs": [
    {
     "name": "stdout",
     "output_type": "stream",
     "text": [
      "(1868, 64, 64, 3)\n",
      "(1868, 25)\n"
     ]
    }
   ],
   "source": [
    "print(X_test.shape)\n",
    "print(y_test.shape)"
   ]
  },
  {
   "cell_type": "code",
   "execution_count": 8,
   "metadata": {},
   "outputs": [],
   "source": [
    "model = load_model(img_height, img_width, y.shape[1])"
   ]
  },
  {
   "cell_type": "code",
   "execution_count": 9,
   "metadata": {
    "scrolled": true
   },
   "outputs": [
    {
     "name": "stdout",
     "output_type": "stream",
     "text": [
      "Train on 7471 samples\n",
      "Epoch 1/10\n",
      "7471/7471 [==============================] - 20s 3ms/sample - loss: 0.9375 - accuracy: 0.6991\n",
      "Epoch 2/10\n",
      "7471/7471 [==============================] - 21s 3ms/sample - loss: 0.2360 - accuracy: 0.9300\n",
      "Epoch 3/10\n",
      "7471/7471 [==============================] - 22s 3ms/sample - loss: 0.1159 - accuracy: 0.9649\n",
      "Epoch 4/10\n",
      "7471/7471 [==============================] - 22s 3ms/sample - loss: 0.0711 - accuracy: 0.9775\n",
      "Epoch 5/10\n",
      "7471/7471 [==============================] - 22s 3ms/sample - loss: 0.0515 - accuracy: 0.9839\n",
      "Epoch 6/10\n",
      "7471/7471 [==============================] - 21s 3ms/sample - loss: 0.0438 - accuracy: 0.9850\n",
      "Epoch 7/10\n",
      "7471/7471 [==============================] - 21s 3ms/sample - loss: 0.0310 - accuracy: 0.9896\n",
      "Epoch 8/10\n",
      "7471/7471 [==============================] - 21s 3ms/sample - loss: 0.0230 - accuracy: 0.9913\n",
      "Epoch 9/10\n",
      "7471/7471 [==============================] - 21s 3ms/sample - loss: 0.0186 - accuracy: 0.9929\n",
      "Epoch 10/10\n",
      "7471/7471 [==============================] - 20s 3ms/sample - loss: 0.0192 - accuracy: 0.9942\n"
     ]
    }
   ],
   "source": [
    "epochs=10\n",
    "history = model.fit(\n",
    "    x=X_train,\n",
    "    y=y_train,\n",
    "    epochs=epochs,\n",
    "    batch_size=32\n",
    ")"
   ]
  },
  {
   "cell_type": "markdown",
   "metadata": {},
   "source": [
    "### Pruebas modelo original"
   ]
  },
  {
   "cell_type": "code",
   "execution_count": 10,
   "metadata": {},
   "outputs": [
    {
     "name": "stdout",
     "output_type": "stream",
     "text": [
      "[0.07416157039307153, 0.97858673]\n"
     ]
    }
   ],
   "source": [
    "print(model.evaluate(X_test, y_test))"
   ]
  },
  {
   "cell_type": "markdown",
   "metadata": {},
   "source": [
    "## Evasión del modelo"
   ]
  },
  {
   "cell_type": "code",
   "execution_count": 11,
   "metadata": {},
   "outputs": [],
   "source": [
    "from art.attacks.evasion import FastGradientMethod"
   ]
  },
  {
   "cell_type": "markdown",
   "metadata": {},
   "source": [
    "### Creando las observaciones falsas"
   ]
  },
  {
   "cell_type": "code",
   "execution_count": 12,
   "metadata": {},
   "outputs": [],
   "source": [
    "og_classifier = KerasClassifier(model=model)"
   ]
  },
  {
   "cell_type": "code",
   "execution_count": 13,
   "metadata": {},
   "outputs": [],
   "source": [
    "epsilon = 10\n",
    "adv_crafter = FastGradientMethod(og_classifier, eps=epsilon)\n",
    "x_test_adv = adv_crafter.generate(x=X_test)"
   ]
  },
  {
   "cell_type": "markdown",
   "metadata": {},
   "source": [
    "### Utilizando las observaciones falsas en el modelo"
   ]
  },
  {
   "cell_type": "code",
   "execution_count": 14,
   "metadata": {
    "scrolled": false
   },
   "outputs": [
    {
     "name": "stdout",
     "output_type": "stream",
     "text": [
      "\n",
      "Test accuracy on adversarial sample: 15.36%\n"
     ]
    }
   ],
   "source": [
    "preds = np.argmax(og_classifier.predict(x_test_adv), axis =1)\n",
    "acc = np.sum(preds == np.argmax(y_test,axis =1))/ y_test.shape[0]\n",
    "print(\"\\nTest accuracy on adversarial sample: %.2f%%\" % (acc * 100))"
   ]
  },
  {
   "cell_type": "markdown",
   "metadata": {},
   "source": [
    "Se puede observar que el desempeño del modelo es considerablemete peor al momento de analizar imagenes con ruido, para proteger nuestro modelo ante este tipo de ataque podriamos entrenar nuestro modelo con imagenes con ruido."
   ]
  },
  {
   "cell_type": "markdown",
   "metadata": {},
   "source": [
    "## Entrenando un nuevo modelo incluyendo imagenes con ruido"
   ]
  },
  {
   "cell_type": "code",
   "execution_count": 15,
   "metadata": {},
   "outputs": [],
   "source": [
    "x_arrays = np.array_split(X_train, 3)\n",
    "y_arrays = np.array_split(y_train,3)"
   ]
  },
  {
   "cell_type": "code",
   "execution_count": 16,
   "metadata": {},
   "outputs": [],
   "source": [
    "for i in y_arrays:\n",
    "    y_train = np.concatenate([y_train, i])"
   ]
  },
  {
   "cell_type": "code",
   "execution_count": 17,
   "metadata": {},
   "outputs": [],
   "source": [
    "epsilons = [5, 10, 15]\n",
    "for i in range(3):\n",
    "    adv_crafter = FastGradientMethod(og_classifier, eps=epsilons[i])\n",
    "    x_test_adv = adv_crafter.generate(x=x_arrays[i])\n",
    "    X_train = np.concatenate([X_train, x_test_adv])"
   ]
  },
  {
   "cell_type": "code",
   "execution_count": 19,
   "metadata": {},
   "outputs": [],
   "source": [
    "new_model = load_model(img_height, img_width, y.shape[1])"
   ]
  },
  {
   "cell_type": "code",
   "execution_count": 20,
   "metadata": {},
   "outputs": [
    {
     "name": "stdout",
     "output_type": "stream",
     "text": [
      "Train on 14942 samples\n",
      "Epoch 1/10\n",
      "14942/14942 [==============================] - 41s 3ms/sample - loss: 0.6290 - accuracy: 0.8054\n",
      "Epoch 2/10\n",
      "14942/14942 [==============================] - 43s 3ms/sample - loss: 0.1338 - accuracy: 0.9556\n",
      "Epoch 3/10\n",
      "14942/14942 [==============================] - 42s 3ms/sample - loss: 0.0698 - accuracy: 0.9763\n",
      "Epoch 4/10\n",
      "14942/14942 [==============================] - 41s 3ms/sample - loss: 0.0400 - accuracy: 0.9861\n",
      "Epoch 5/10\n",
      "14942/14942 [==============================] - 41s 3ms/sample - loss: 0.0207 - accuracy: 0.9933\n",
      "Epoch 6/10\n",
      "14942/14942 [==============================] - 41s 3ms/sample - loss: 0.0226 - accuracy: 0.9930\n",
      "Epoch 7/10\n",
      "14942/14942 [==============================] - 42s 3ms/sample - loss: 0.0149 - accuracy: 0.9946\n",
      "Epoch 8/10\n",
      "14942/14942 [==============================] - 41s 3ms/sample - loss: 0.0095 - accuracy: 0.9974\n",
      "Epoch 9/10\n",
      "14942/14942 [==============================] - 41s 3ms/sample - loss: 0.0144 - accuracy: 0.9949\n",
      "Epoch 10/10\n",
      "14942/14942 [==============================] - 41s 3ms/sample - loss: 0.0126 - accuracy: 0.9963\n"
     ]
    }
   ],
   "source": [
    "epochs=10\n",
    "history = new_model.fit(\n",
    "    x=X_train,\n",
    "    y=y_train,\n",
    "    epochs=epochs,\n",
    "    batch_size=32\n",
    ")"
   ]
  },
  {
   "cell_type": "markdown",
   "metadata": {},
   "source": [
    "## Pruebas del nuevo modelo con data sin ruido"
   ]
  },
  {
   "cell_type": "code",
   "execution_count": 21,
   "metadata": {
    "scrolled": true
   },
   "outputs": [
    {
     "name": "stdout",
     "output_type": "stream",
     "text": [
      "[0.10713661153884232, 0.9716274]\n"
     ]
    }
   ],
   "source": [
    "print(new_model.evaluate(X_test, y_test))"
   ]
  },
  {
   "cell_type": "markdown",
   "metadata": {},
   "source": [
    "## Pruebas del nuevo modelo con data con ruido"
   ]
  },
  {
   "cell_type": "code",
   "execution_count": 22,
   "metadata": {},
   "outputs": [],
   "source": [
    "new_classifier = KerasClassifier(model=new_model)"
   ]
  },
  {
   "cell_type": "code",
   "execution_count": 23,
   "metadata": {},
   "outputs": [],
   "source": [
    "epsilon = 10\n",
    "adv_crafter = FastGradientMethod(og_classifier, eps=epsilon)\n",
    "x_test_adv = adv_crafter.generate(x=X_test)"
   ]
  },
  {
   "cell_type": "code",
   "execution_count": 24,
   "metadata": {},
   "outputs": [
    {
     "name": "stdout",
     "output_type": "stream",
     "text": [
      "\n",
      "Test accuracy on adversarial sample: 84.42%\n"
     ]
    }
   ],
   "source": [
    "preds = np.argmax(new_classifier.predict(x_test_adv), axis =1)\n",
    "acc = np.sum(preds == np.argmax(y_test,axis =1))/ y_test.shape[0]\n",
    "print(\"\\nTest accuracy on adversarial sample: %.2f%%\" % (acc * 100))"
   ]
  }
 ],
 "metadata": {
  "kernelspec": {
   "display_name": "Python 3 (ipykernel)",
   "language": "python",
   "name": "python3"
  },
  "language_info": {
   "codemirror_mode": {
    "name": "ipython",
    "version": 3
   },
   "file_extension": ".py",
   "mimetype": "text/x-python",
   "name": "python",
   "nbconvert_exporter": "python",
   "pygments_lexer": "ipython3",
   "version": "3.8.1"
  }
 },
 "nbformat": 4,
 "nbformat_minor": 4
}
