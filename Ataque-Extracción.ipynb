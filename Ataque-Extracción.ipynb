{
 "cells": [
  {
   "cell_type": "markdown",
   "id": "2a431f4b-c432-4437-868b-052e6d5e75d9",
   "metadata": {
    "tags": []
   },
   "source": [
    "# Ataque por exracción\n",
    "---\n",
    "\n",
    "#### RobertoFigueroa, Michele Benvenuto, Gustavo Méndez\n",
    "Universidad Del Valle de Guatemala \\\n",
    "Security Data Science \\\n",
    "Proyecto 3 \n",
    "\n",
    "---"
   ]
  },
  {
   "cell_type": "markdown",
   "id": "2c807942-91a0-44b3-97e6-433c9852ff43",
   "metadata": {},
   "source": [
    "Se procede a realizar ataques de extracción con el fin de replicar el comportamiento de una red preentrenada y obtener un clasificador robado con eficiencia adecuada. Para este proyecto se tomó en cuenta la librería Adversarial Robustness Toolbox https://github.com/Trusted-AI/adversarial-robustness-toolbox/blob/main/notebooks/model-stealing-demo.ipynb"
   ]
  },
  {
   "cell_type": "markdown",
   "id": "35e3ef32-32d8-4500-948c-3bb6e9525f2a",
   "metadata": {
    "tags": []
   },
   "source": [
    "### Modelo Original"
   ]
  },
  {
   "cell_type": "code",
   "execution_count": 28,
   "id": "b183d084-89e0-4182-9e1f-b56f1caaef64",
   "metadata": {},
   "outputs": [],
   "source": [
    "import pandas as pd\n",
    "import numpy as np\n",
    "import matplotlib.pyplot as plt\n",
    "import seaborn as sns\n",
    "import matplotlib.image as mpimg\n",
    "\n",
    "import tensorflow as tf\n",
    "from tensorflow.keras.layers import (\n",
    "    Conv2D, \n",
    "    MaxPooling2D,\n",
    "    Dense,\n",
    "    Rescaling,\n",
    "    Flatten,\n",
    "    Dropout,\n",
    "    InputLayer,\n",
    "    Reshape\n",
    ")\n",
    "\n",
    "from keras.models import Sequential\n",
    "\n",
    "from sklearn.metrics import (\n",
    "    confusion_matrix, \n",
    "    precision_score, \n",
    "    recall_score, \n",
    "    f1_score, \n",
    "    plot_confusion_matrix, \n",
    "    accuracy_score\n",
    ")\n",
    "\n",
    "from art.estimators.classification import KerasClassifier\n",
    "from sklearn.model_selection import train_test_split\n",
    "# from tensorflow.keras.optimizers import SGD\n",
    "\n",
    "\n",
    "import os\n",
    "import warnings\n",
    "warnings.filterwarnings('ignore')\n",
    "\n",
    "%matplotlib inline\n",
    "if tf.executing_eagerly():\n",
    "    tf.compat.v1.disable_eager_execution()"
   ]
  },
  {
   "cell_type": "code",
   "execution_count": 29,
   "id": "77aa8186-ea27-4b89-82be-c8a53aec7c3f",
   "metadata": {},
   "outputs": [],
   "source": [
    "def get_train_test(data_dir, batch_size=32, img_height=64, img_width=64):\n",
    "    \n",
    "    ig = tf.keras.preprocessing.image.ImageDataGenerator()\n",
    "    data = ig.flow_from_directory(directory=data_dir, \n",
    "                                     target_size=(img_height, img_width), \n",
    "                                     batch_size=batch_size,\n",
    "                                     seed=123)\n",
    "\n",
    "    X, y = data.next()\n",
    "    \n",
    "    return X, y"
   ]
  },
  {
   "cell_type": "code",
   "execution_count": 30,
   "id": "d2b5dcbd-ff9f-4b02-b729-4330b934ce0c",
   "metadata": {},
   "outputs": [],
   "source": [
    "def load_model(img_height, img_width, num_classes):\n",
    "    model = Sequential([\n",
    "    Rescaling(1./255, input_shape=(img_height, img_width, 3)),\n",
    "    Conv2D(16, 3, padding='same', activation='relu'),\n",
    "    MaxPooling2D(),\n",
    "    Conv2D(32, 3, padding='same', activation='relu'),\n",
    "    MaxPooling2D(),\n",
    "    Conv2D(64, 3, padding='same', activation='relu'),\n",
    "    MaxPooling2D(),\n",
    "    Dropout(0.2),\n",
    "    Flatten(),\n",
    "    Dense(128, activation='relu'),\n",
    "    Dense(num_classes)\n",
    "    ])\n",
    "    \n",
    "    #opt = SGD(lr=0.1)\n",
    "    \n",
    "    model.compile(loss=tf.keras.losses.CategoricalCrossentropy(from_logits=True), optimizer=\"adam\",\n",
    "                                                                  metrics=['accuracy'])\n",
    "    \n",
    "    return model"
   ]
  },
  {
   "cell_type": "markdown",
   "id": "d22ba577-fd95-48ad-8b09-9f67d97a89f5",
   "metadata": {},
   "source": [
    "#### Entrenamiento Modelo Original"
   ]
  },
  {
   "cell_type": "code",
   "execution_count": 31,
   "id": "11484998-a00d-43c2-8253-aa9413d05b95",
   "metadata": {},
   "outputs": [
    {
     "name": "stdout",
     "output_type": "stream",
     "text": [
      "Found 9339 images belonging to 25 classes.\n"
     ]
    }
   ],
   "source": [
    "DIR = './data/malimg_paper_dataset_imgs/' \n",
    "batch_size=9339\n",
    "img_height=64\n",
    "img_width=64\n",
    "X, y = get_train_test(DIR, batch_size, img_height, img_width)"
   ]
  },
  {
   "cell_type": "code",
   "execution_count": 32,
   "id": "daca1a18-4702-459a-b528-2e7788a8a90a",
   "metadata": {},
   "outputs": [],
   "source": [
    "X_train, X_test, y_train, y_test = train_test_split(X, y, train_size=0.8, random_state=79)"
   ]
  },
  {
   "cell_type": "code",
   "execution_count": 33,
   "id": "fecdcb10-fa44-4f1c-affc-03d38c2d2bb8",
   "metadata": {},
   "outputs": [
    {
     "name": "stdout",
     "output_type": "stream",
     "text": [
      "Matriz de caracteristicas para entrenamiento:\t (1868, 64, 64, 3)\n",
      "Vetor de etiquetas para entrenamiento:\t\t (1868, 25)\n",
      "Matriz de caracteristicas para pruebas:\t\t (1868, 64, 64, 3)\n",
      "Vetor de etiquetas para pruebas:\t\t (1868, 25)\n"
     ]
    }
   ],
   "source": [
    "print(\"Matriz de caracteristicas para entrenamiento:\\t\", X_test.shape)\n",
    "print(\"Vetor de etiquetas para entrenamiento:\\t\\t\", y_test.shape)\n",
    "print(\"Matriz de caracteristicas para pruebas:\\t\\t\", X_test.shape)\n",
    "print(\"Vetor de etiquetas para pruebas:\\t\\t\", y_test.shape)"
   ]
  },
  {
   "cell_type": "code",
   "execution_count": 38,
   "id": "81b7b8ea-1078-45fd-8488-a6b75b46e3cb",
   "metadata": {},
   "outputs": [],
   "source": [
    "model = load_model(img_height, img_width, y.shape[1])"
   ]
  },
  {
   "cell_type": "code",
   "execution_count": 39,
   "id": "921d82b4-be09-45bc-851c-fe065bafb909",
   "metadata": {},
   "outputs": [
    {
     "name": "stdout",
     "output_type": "stream",
     "text": [
      "Train on 7471 samples\n",
      "Epoch 1/5\n",
      "7471/7471 [==============================] - 15s 2ms/sample - loss: 0.9526 - accuracy: 0.7066\n",
      "Epoch 2/5\n",
      "7471/7471 [==============================] - 15s 2ms/sample - loss: 0.1987 - accuracy: 0.9453\n",
      "Epoch 3/5\n",
      "7471/7471 [==============================] - 16s 2ms/sample - loss: 0.1285 - accuracy: 0.9616\n",
      "Epoch 4/5\n",
      "7471/7471 [==============================] - 16s 2ms/sample - loss: 0.0984 - accuracy: 0.9685\n",
      "Epoch 5/5\n",
      "7471/7471 [==============================] - 16s 2ms/sample - loss: 0.0745 - accuracy: 0.9758\n"
     ]
    }
   ],
   "source": [
    "epochs=5\n",
    "history = model.fit(\n",
    "    x=X_train,\n",
    "    y=y_train,\n",
    "    epochs=epochs,\n",
    "    batch_size=32\n",
    ")"
   ]
  },
  {
   "cell_type": "markdown",
   "id": "23e93373-02db-4c78-9704-d17f5259156a",
   "metadata": {},
   "source": [
    "#### Pruebas modelo original"
   ]
  },
  {
   "cell_type": "code",
   "execution_count": 40,
   "id": "ed8a06e6-84cc-4227-88b1-d015cad98b38",
   "metadata": {},
   "outputs": [
    {
     "name": "stdout",
     "output_type": "stream",
     "text": [
      "[0.08778500176240277, 0.9641328]\n"
     ]
    }
   ],
   "source": [
    "print(model.evaluate(X_test, y_test))"
   ]
  },
  {
   "cell_type": "markdown",
   "id": "ea257fb8-ce15-46b0-b2e8-57ee7388c86b",
   "metadata": {
    "tags": []
   },
   "source": [
    "### Robo de modelo"
   ]
  },
  {
   "cell_type": "code",
   "execution_count": 41,
   "id": "0a696c0e-022f-4ec4-a168-7c95f7fc468c",
   "metadata": {},
   "outputs": [],
   "source": [
    "# Documentation: https://adversarial-robustness-toolbox.readthedocs.io/en/latest/modules/attacks/extraction.html#copycat-cnn\n",
    "# Ref: https://github.com/Trusted-AI/adversarial-robustness-toolbox/blob/main/notebooks/model-stealing-demo.ipynb\n",
    "from art.attacks import ExtractionAttack\n",
    "from art.attacks.extraction import CopycatCNN, KnockoffNets"
   ]
  },
  {
   "cell_type": "code",
   "execution_count": 42,
   "id": "2aa6428f-f463-455a-9652-1e6d7bd14e0f",
   "metadata": {},
   "outputs": [],
   "source": [
    "num_epochs = 10\n",
    "len_steal = 1600"
   ]
  },
  {
   "cell_type": "code",
   "execution_count": 43,
   "id": "0091ae59-9612-43b4-9a6d-131bcab44a7f",
   "metadata": {},
   "outputs": [],
   "source": [
    "og_model = KerasClassifier(model)"
   ]
  },
  {
   "cell_type": "code",
   "execution_count": 44,
   "id": "bfa7ac22-c3ad-4998-a070-ee01ae7e52bb",
   "metadata": {},
   "outputs": [],
   "source": [
    "attack_catalogue = {\n",
    "                    \"Argmax CopycatCNN\": CopycatCNN(classifier=og_model,\n",
    "                                              batch_size_fit=64,\n",
    "                                              batch_size_query=64,\n",
    "                                              nb_epochs=num_epochs,\n",
    "                                              nb_stolen=len_steal,\n",
    "                                              use_probability=False),\n",
    "                    \"Argmax KnockoffNets\": KnockoffNets(classifier=og_model,\n",
    "                                              batch_size_fit=64,\n",
    "                                              batch_size_query=64,\n",
    "                                              nb_epochs=num_epochs,\n",
    "                                              nb_stolen=len_steal,\n",
    "                                              use_probability=False),\n",
    "                   }"
   ]
  },
  {
   "cell_type": "code",
   "execution_count": null,
   "id": "6e78b175-aea0-4a92-b7e3-cc165a8788c0",
   "metadata": {},
   "outputs": [
    {
     "name": "stdout",
     "output_type": "stream",
     "text": [
      "Train on 25 samples\n",
      "Epoch 1/10\n",
      "25/25 [==============================] - 0s 5ms/sample - loss: 3.1935 - accuracy: 0.0000e+00\n",
      "Epoch 2/10\n",
      "25/25 [==============================] - 0s 2ms/sample - loss: 2.6923 - accuracy: 0.2800\n",
      "Epoch 3/10\n",
      "25/25 [==============================] - 0s 2ms/sample - loss: 2.5547 - accuracy: 0.2400\n",
      "Epoch 4/10\n",
      "25/25 [==============================] - 0s 2ms/sample - loss: 2.4580 - accuracy: 0.1200\n",
      "Epoch 5/10\n",
      "25/25 [==============================] - 0s 2ms/sample - loss: 2.3264 - accuracy: 0.2800\n",
      "Epoch 6/10\n",
      "25/25 [==============================] - 0s 3ms/sample - loss: 2.2858 - accuracy: 0.3200\n",
      "Epoch 7/10\n",
      "25/25 [==============================] - 0s 2ms/sample - loss: 2.1917 - accuracy: 0.3600\n",
      "Epoch 8/10\n",
      "25/25 [==============================] - 0s 2ms/sample - loss: 2.1137 - accuracy: 0.2800\n",
      "Epoch 9/10\n",
      "25/25 [==============================] - 0s 2ms/sample - loss: 2.0521 - accuracy: 0.2400\n",
      "Epoch 10/10\n",
      "25/25 [==============================] - 0s 2ms/sample - loss: 1.9800 - accuracy: 0.3600\n",
      "Argmax CopycatCNN : 0.3879544\n",
      "Argmax KnockoffNets : 0.38849702\n",
      "Train on 50 samples\n",
      "Epoch 1/10\n",
      "50/50 [==============================] - 0s 4ms/sample - loss: 3.4156 - accuracy: 0.0000e+00\n",
      "Epoch 2/10\n",
      "50/50 [==============================] - 0s 2ms/sample - loss: 2.5611 - accuracy: 0.3400\n",
      "Epoch 3/10\n",
      "50/50 [==============================] - 0s 2ms/sample - loss: 2.4080 - accuracy: 0.3400\n",
      "Epoch 4/10\n",
      "50/50 [==============================] - 0s 2ms/sample - loss: 2.3561 - accuracy: 0.3400\n",
      "Epoch 5/10\n",
      "50/50 [==============================] - 0s 2ms/sample - loss: 2.2439 - accuracy: 0.2600\n",
      "Epoch 6/10\n",
      "50/50 [==============================] - 0s 2ms/sample - loss: 2.1676 - accuracy: 0.3400\n",
      "Epoch 7/10\n",
      "50/50 [==============================] - 0s 2ms/sample - loss: 2.1178 - accuracy: 0.3400\n",
      "Epoch 8/10\n",
      "50/50 [==============================] - 0s 2ms/sample - loss: 2.0873 - accuracy: 0.3400\n",
      "Epoch 9/10\n",
      "50/50 [==============================] - 0s 2ms/sample - loss: 2.0232 - accuracy: 0.3400\n",
      "Epoch 10/10\n",
      "50/50 [==============================] - 0s 2ms/sample - loss: 1.9438 - accuracy: 0.3400\n",
      "Argmax CopycatCNN : 0.3058306\n",
      "Argmax KnockoffNets : 0.28932893\n",
      "Train on 200 samples\n",
      "Epoch 1/10\n",
      "200/200 [==============================] - 0s 2ms/sample - loss: 2.8154 - accuracy: 0.2100\n",
      "Epoch 2/10\n",
      "200/200 [==============================] - 0s 2ms/sample - loss: 2.4890 - accuracy: 0.2000\n",
      "Epoch 3/10\n",
      "200/200 [==============================] - 0s 2ms/sample - loss: 2.3252 - accuracy: 0.2750\n",
      "Epoch 4/10\n",
      "200/200 [==============================] - 0s 2ms/sample - loss: 2.2169 - accuracy: 0.3400\n",
      "Epoch 5/10\n",
      "200/200 [==============================] - 0s 2ms/sample - loss: 2.0199 - accuracy: 0.3850\n",
      "Epoch 6/10\n",
      "200/200 [==============================] - 0s 2ms/sample - loss: 1.8332 - accuracy: 0.3650\n",
      "Epoch 7/10\n",
      "200/200 [==============================] - 0s 2ms/sample - loss: 1.6639 - accuracy: 0.5300\n",
      "Epoch 8/10\n",
      "200/200 [==============================] - 0s 2ms/sample - loss: 1.4432 - accuracy: 0.5300\n",
      "Epoch 9/10\n",
      "200/200 [==============================] - 0s 2ms/sample - loss: 1.2565 - accuracy: 0.5550\n",
      "Epoch 10/10\n",
      "200/200 [==============================] - 0s 2ms/sample - loss: 1.1259 - accuracy: 0.5950\n",
      "Argmax CopycatCNN : 0.5893285\n",
      "Argmax KnockoffNets : 0.573741\n",
      "Train on 500 samples\n",
      "Epoch 1/10\n",
      "500/500 [==============================] - 1s 2ms/sample - loss: 2.6761 - accuracy: 0.2780\n",
      "Epoch 2/10\n",
      "500/500 [==============================] - 1s 2ms/sample - loss: 2.4271 - accuracy: 0.3000\n",
      "Epoch 3/10\n",
      "500/500 [==============================] - 1s 2ms/sample - loss: 2.2436 - accuracy: 0.3240\n",
      "Epoch 4/10\n",
      "500/500 [==============================] - 1s 2ms/sample - loss: 1.9883 - accuracy: 0.4240\n",
      "Epoch 5/10\n",
      "500/500 [==============================] - 1s 2ms/sample - loss: 1.6340 - accuracy: 0.4980\n",
      "Epoch 6/10\n",
      "500/500 [==============================] - 1s 2ms/sample - loss: 1.3008 - accuracy: 0.5620\n",
      "Epoch 7/10\n",
      "500/500 [==============================] - 1s 2ms/sample - loss: 1.0170 - accuracy: 0.6520\n",
      "Epoch 8/10\n",
      "500/500 [==============================] - 1s 2ms/sample - loss: 0.8334 - accuracy: 0.7160\n",
      "Epoch 9/10\n",
      "500/500 [==============================] - 1s 2ms/sample - loss: 0.6784 - accuracy: 0.7520\n",
      "Epoch 10/10\n",
      "500/500 [==============================] - 1s 2ms/sample - loss: 0.5245 - accuracy: 0.8480\n",
      "Argmax CopycatCNN : 0.75950295\n",
      "Argmax KnockoffNets : 0.6871345\n",
      "Train on 1000 samples\n",
      "Epoch 1/10\n",
      "1000/1000 [==============================] - 2s 2ms/sample - loss: 2.5211 - accuracy: 0.2920\n",
      "Epoch 2/10\n",
      "1000/1000 [==============================] - 2s 2ms/sample - loss: 2.1727 - accuracy: 0.3560\n",
      "Epoch 3/10\n",
      "1000/1000 [==============================] - 2s 2ms/sample - loss: 1.7158 - accuracy: 0.4770\n",
      "Epoch 4/10\n",
      "1000/1000 [==============================] - 2s 2ms/sample - loss: 1.1671 - accuracy: 0.6190\n",
      "Epoch 5/10\n",
      "1000/1000 [==============================] - 2s 2ms/sample - loss: 0.7504 - accuracy: 0.7280\n",
      "Epoch 6/10\n",
      "1000/1000 [==============================] - 2s 2ms/sample - loss: 0.5092 - accuracy: 0.8200\n",
      "Epoch 7/10\n",
      "1000/1000 [==============================] - 2s 2ms/sample - loss: 0.4217 - accuracy: 0.8630\n",
      "Epoch 8/10\n",
      "1000/1000 [==============================] - 2s 2ms/sample - loss: 0.2546 - accuracy: 0.9390\n",
      "Epoch 9/10\n",
      "1000/1000 [==============================] - 2s 2ms/sample - loss: 0.1720 - accuracy: 0.9610\n",
      "Epoch 10/10\n",
      "1000/1000 [==============================] - 2s 2ms/sample - loss: 0.1161 - accuracy: 0.9800\n",
      "Argmax CopycatCNN : 0.89746547\n",
      "Argmax KnockoffNets : 0.8997696\n",
      "Train on 1600 samples\n",
      "Epoch 1/10\n",
      "1600/1600 [==============================] - 3s 2ms/sample - loss: 2.3782 - accuracy: 0.2944\n",
      "Epoch 2/10\n",
      "1600/1600 [==============================] - 3s 2ms/sample - loss: 1.4041 - accuracy: 0.5400\n",
      "Epoch 3/10\n",
      "1600/1600 [==============================] - 3s 2ms/sample - loss: 0.7636 - accuracy: 0.7262\n",
      "Epoch 4/10\n",
      "1600/1600 [==============================] - 3s 2ms/sample - loss: 0.5296 - accuracy: 0.7931\n",
      "Epoch 5/10\n",
      "1600/1600 [==============================] - 3s 2ms/sample - loss: 0.4045 - accuracy: 0.8575\n",
      "Epoch 6/10\n",
      "1600/1600 [==============================] - 3s 2ms/sample - loss: 0.3319 - accuracy: 0.8819\n",
      "Epoch 7/10\n",
      "1600/1600 [==============================] - 3s 2ms/sample - loss: 0.2598 - accuracy: 0.9069\n",
      "Epoch 8/10\n",
      "1600/1600 [==============================] - 3s 2ms/sample - loss: 0.2032 - accuracy: 0.9306\n",
      "Epoch 9/10\n",
      "1600/1600 [==============================] - 3s 2ms/sample - loss: 0.1350 - accuracy: 0.9663\n",
      "Epoch 10/10\n",
      "1600/1600 [==============================] - 5s 3ms/sample - loss: 0.0834 - accuracy: 0.9800\n",
      "Argmax CopycatCNN : 0.9291045\n"
     ]
    }
   ],
   "source": [
    "results = []\n",
    "for len_steal in [25, 50, 200, 500, 1000, 1600]:\n",
    "    indices = np.random.permutation(len(X_test))\n",
    "    x_steal = X_test[indices[:len_steal]]\n",
    "    y_steal = y_test[indices[:len_steal]]\n",
    "    _x_test = X_test[indices[len_steal:]]\n",
    "    _y_test = y_test[indices[len_steal:]]\n",
    "\n",
    "    for name, attack in attack_catalogue.items():\n",
    "        model_stolen = load_model(img_height, img_width, y.shape[1])\n",
    "        classifier_stolen = KerasClassifier(model_stolen)\n",
    "        classifier_stolen = attack.extract(x_steal, y_steal, thieved_classifier=classifier_stolen)\n",
    "        acc = classifier_stolen._model.evaluate(_x_test, _y_test)[1]\n",
    "        print(name, \":\", acc)\n",
    "        results.append((name, len_steal, acc))"
   ]
  },
  {
   "cell_type": "code",
   "execution_count": 46,
   "id": "0152ba73-7df7-4557-a144-d16304d8335a",
   "metadata": {},
   "outputs": [
    {
     "data": {
      "image/png": "[encoded data removed]",
      "text/plain": [
       "<Figure size 576x432 with 1 Axes>"
      ]
     },
     "metadata": {
      "needs_background": "light"
     },
     "output_type": "display_data"
    }
   ],
   "source": [
    "df = pd.DataFrame(results, columns=('Nombre del método', 'Tamaño del dataset robado', 'Accuracy'))\n",
    "fig, ax = plt.subplots(figsize=(8,6))\n",
    "ax.set_xlabel(\"Tamaño del dataset robado\")\n",
    "ax.set_ylabel(\"Accuracy Modelo Robado\")\n",
    "for name, group in df.groupby(\"Nombre del método\"):\n",
    "    group.plot(1, 2, ax=ax, label=name)\n",
    "plt.show()"
   ]
  },
  {
   "cell_type": "code",
   "execution_count": 49,
   "id": "32af0e36-8e95-48b4-add0-1f468eb39f5c",
   "metadata": {},
   "outputs": [],
   "source": [
    "from art.defences.postprocessor import ReverseSigmoid\n",
    "postprocessor = ReverseSigmoid(beta=1.0, gamma=0.2)\n",
    "classifier_protected = KerasClassifier(model, postprocessing_defences=postprocessor)"
   ]
  },
  {
   "cell_type": "code",
   "execution_count": 59,
   "id": "10e4ca4b-04a4-4c66-ae32-a4ab1234f2fe",
   "metadata": {},
   "outputs": [],
   "source": [
    "attack_catalogue = {\n",
    "                    #\"Probabilistic CopycatCNN (vs. Protected)\": CopycatCNN(classifier=classifier_protected,\n",
    "                    #                          batch_size_fit=64,\n",
    "                    #                          batch_size_query=64,\n",
    "                    #                          nb_epochs=num_epochs,\n",
    "                    #                          nb_stolen=len_steal,\n",
    "                    #                          use_probability=True),\n",
    "                    \"Argmax CopycatCNN (vs. Protected)\": CopycatCNN(classifier=classifier_protected,\n",
    "                                              batch_size_fit=64,\n",
    "                                              batch_size_query=64,\n",
    "                                              nb_epochs=num_epochs,\n",
    "                                              nb_stolen=len_steal,\n",
    "                                              use_probability=False),\n",
    "                    #\"Probabilistic KnockoffNets (vs. Protected)\": KnockoffNets(classifier=classifier_protected,\n",
    "                    #                          batch_size_fit=64,\n",
    "                    #                          batch_size_query=64,\n",
    "                    #                          nb_epochs=num_epochs,\n",
    "                    #                          nb_stolen=len_steal,\n",
    "                    #                          use_probability=True),\n",
    "                    \"Argmax KnockoffNets (vs. Protected)\": KnockoffNets(classifier=classifier_protected,\n",
    "                                              batch_size_fit=64,\n",
    "                                              batch_size_query=64,\n",
    "                                              nb_epochs=num_epochs,\n",
    "                                              nb_stolen=len_steal,\n",
    "                                              use_probability=False),\n",
    "#                     \"FunctionallyEquivalentExtraction\": FunctionallyEquivalentExtraction(classifier=classifier_flat_protected,\n",
    "#                                               num_neurons=128),  # This one takes too long time for this dataset/model.\n",
    "                    }"
   ]
  },
  {
   "cell_type": "code",
   "execution_count": 60,
   "id": "215a0a73-8592-42d5-81ef-066914d2d540",
   "metadata": {},
   "outputs": [
    {
     "name": "stdout",
     "output_type": "stream",
     "text": [
      "Train on 25 samples\n",
      "Epoch 1/10\n",
      "25/25 [==============================] - 1s 30ms/sample - loss: 3.3038 - accuracy: 0.0000e+00\n",
      "Epoch 2/10\n",
      "25/25 [==============================] - 0s 2ms/sample - loss: 2.7506 - accuracy: 0.4000\n",
      "Epoch 3/10\n",
      "25/25 [==============================] - 0s 2ms/sample - loss: 2.2263 - accuracy: 0.2400\n",
      "Epoch 4/10\n",
      "25/25 [==============================] - 0s 2ms/sample - loss: 2.8597 - accuracy: 0.1200\n",
      "Epoch 5/10\n",
      "25/25 [==============================] - 0s 2ms/sample - loss: 2.1951 - accuracy: 0.1200\n",
      "Epoch 6/10\n",
      "25/25 [==============================] - 0s 2ms/sample - loss: 1.9392 - accuracy: 0.3200\n",
      "Epoch 7/10\n",
      "25/25 [==============================] - 0s 2ms/sample - loss: 2.8139 - accuracy: 0.1200\n",
      "Epoch 8/10\n",
      "25/25 [==============================] - 0s 2ms/sample - loss: 2.5622 - accuracy: 0.3600\n",
      "Epoch 9/10\n",
      "25/25 [==============================] - 0s 2ms/sample - loss: 2.0851 - accuracy: 0.3600\n",
      "Epoch 10/10\n",
      "25/25 [==============================] - 0s 2ms/sample - loss: 1.9144 - accuracy: 0.3200\n",
      "Argmax CopycatCNN (vs. Protected) : 0.010851872\n",
      "Argmax KnockoffNets (vs. Protected) : 0.30710799\n",
      "Train on 50 samples\n",
      "Epoch 1/10\n",
      "50/50 [==============================] - 1s 15ms/sample - loss: 3.1760 - accuracy: 0.0200\n",
      "Epoch 2/10\n",
      "50/50 [==============================] - 0s 2ms/sample - loss: 2.2469 - accuracy: 0.3600\n",
      "Epoch 3/10\n",
      "50/50 [==============================] - 0s 2ms/sample - loss: 2.7246 - accuracy: 0.3600\n",
      "Epoch 4/10\n",
      "50/50 [==============================] - 0s 2ms/sample - loss: 3.0951 - accuracy: 0.1200\n",
      "Epoch 5/10\n",
      "50/50 [==============================] - 0s 2ms/sample - loss: 2.9770 - accuracy: 0.1400\n",
      "Epoch 6/10\n",
      "50/50 [==============================] - 0s 2ms/sample - loss: 2.8163 - accuracy: 0.3200\n",
      "Epoch 7/10\n",
      "50/50 [==============================] - 0s 2ms/sample - loss: 2.5804 - accuracy: 0.3000\n",
      "Epoch 8/10\n",
      "50/50 [==============================] - 0s 2ms/sample - loss: 2.3393 - accuracy: 0.3000\n",
      "Epoch 9/10\n",
      "50/50 [==============================] - 0s 2ms/sample - loss: 2.0374 - accuracy: 0.3000\n",
      "Epoch 10/10\n",
      "50/50 [==============================] - 0s 2ms/sample - loss: 1.7080 - accuracy: 0.3000\n",
      "Argmax CopycatCNN (vs. Protected) : 0.30748075\n",
      "Argmax KnockoffNets (vs. Protected) : 0.0110011\n",
      "Train on 200 samples\n",
      "Epoch 1/10\n",
      "200/200 [==============================] - 1s 5ms/sample - loss: 2.8530 - accuracy: 0.3500\n",
      "Epoch 2/10\n",
      "200/200 [==============================] - 0s 2ms/sample - loss: 2.6651 - accuracy: 0.2300\n",
      "Epoch 3/10\n",
      "200/200 [==============================] - 0s 2ms/sample - loss: 2.4728 - accuracy: 0.3950\n",
      "Epoch 4/10\n",
      "200/200 [==============================] - 0s 2ms/sample - loss: 2.1028 - accuracy: 0.4900\n",
      "Epoch 5/10\n",
      "200/200 [==============================] - 0s 2ms/sample - loss: 2.0341 - accuracy: 0.3950\n",
      "Epoch 6/10\n",
      "200/200 [==============================] - 0s 2ms/sample - loss: 2.0961 - accuracy: 0.2200\n",
      "Epoch 7/10\n",
      "200/200 [==============================] - 0s 2ms/sample - loss: 1.7810 - accuracy: 0.3750\n",
      "Epoch 8/10\n",
      "200/200 [==============================] - 0s 2ms/sample - loss: 1.5563 - accuracy: 0.4900\n",
      "Epoch 9/10\n",
      "200/200 [==============================] - 0s 2ms/sample - loss: 1.5416 - accuracy: 0.4900\n",
      "Epoch 10/10\n",
      "200/200 [==============================] - 0s 2ms/sample - loss: 1.5450 - accuracy: 0.4900\n",
      "Argmax CopycatCNN (vs. Protected) : 0.01438849\n",
      "Argmax KnockoffNets (vs. Protected) : 0.30395684\n",
      "Train on 500 samples\n",
      "Epoch 1/10\n",
      "500/500 [==============================] - 3s 5ms/sample - loss: 3.0076 - accuracy: 0.2400\n",
      "Epoch 2/10\n",
      "500/500 [==============================] - 1s 2ms/sample - loss: 2.6487 - accuracy: 0.2920\n",
      "Epoch 3/10\n",
      "500/500 [==============================] - 1s 2ms/sample - loss: 1.8626 - accuracy: 0.4240\n",
      "Epoch 4/10\n",
      "500/500 [==============================] - 1s 2ms/sample - loss: 1.8220 - accuracy: 0.3520\n",
      "Epoch 5/10\n",
      "500/500 [==============================] - 1s 2ms/sample - loss: 1.6919 - accuracy: 0.3840\n",
      "Epoch 6/10\n",
      "500/500 [==============================] - 1s 2ms/sample - loss: 1.6976 - accuracy: 0.4000\n",
      "Epoch 7/10\n",
      "500/500 [==============================] - 1s 2ms/sample - loss: 1.6785 - accuracy: 0.4120\n",
      "Epoch 8/10\n",
      "500/500 [==============================] - 1s 2ms/sample - loss: 1.6165 - accuracy: 0.4180\n",
      "Epoch 9/10\n",
      "500/500 [==============================] - 1s 3ms/sample - loss: 1.6415 - accuracy: 0.4140\n",
      "Epoch 10/10\n",
      "500/500 [==============================] - 1s 3ms/sample - loss: 1.7456 - accuracy: 0.3740\n",
      "Argmax CopycatCNN (vs. Protected) : 0.30847952\n",
      "Argmax KnockoffNets (vs. Protected) : 0.30847952\n",
      "Train on 1000 samples\n",
      "Epoch 1/10\n",
      "1000/1000 [==============================] - 3s 3ms/sample - loss: 2.6545 - accuracy: 0.2740\n",
      "Epoch 2/10\n",
      "1000/1000 [==============================] - 2s 2ms/sample - loss: 1.7738 - accuracy: 0.3830\n",
      "Epoch 3/10\n",
      "1000/1000 [==============================] - 2s 2ms/sample - loss: 1.7615 - accuracy: 0.4110\n",
      "Epoch 4/10\n",
      "1000/1000 [==============================] - 2s 2ms/sample - loss: 1.6881 - accuracy: 0.4070\n",
      "Epoch 5/10\n",
      "1000/1000 [==============================] - 2s 2ms/sample - loss: 1.6839 - accuracy: 0.4050\n",
      "Epoch 6/10\n",
      "1000/1000 [==============================] - 2s 2ms/sample - loss: 1.5753 - accuracy: 0.4110\n",
      "Epoch 7/10\n",
      "1000/1000 [==============================] - 2s 2ms/sample - loss: 1.5268 - accuracy: 0.4250\n",
      "Epoch 8/10\n",
      "1000/1000 [==============================] - 2s 2ms/sample - loss: 1.7355 - accuracy: 0.5290\n",
      "Epoch 9/10\n",
      "1000/1000 [==============================] - 2s 2ms/sample - loss: 1.5494 - accuracy: 0.4610\n",
      "Epoch 10/10\n",
      "1000/1000 [==============================] - 2s 2ms/sample - loss: 1.0469 - accuracy: 0.6040\n",
      "Argmax CopycatCNN (vs. Protected) : 0.35714287\n",
      "Argmax KnockoffNets (vs. Protected) : 0.36520737\n",
      "Train on 1600 samples\n",
      "Epoch 1/10\n",
      "1600/1600 [==============================] - 6s 4ms/sample - loss: 2.4595 - accuracy: 0.3512\n",
      "Epoch 2/10\n",
      "1600/1600 [==============================] - 3s 2ms/sample - loss: 1.6794 - accuracy: 0.4275\n",
      "Epoch 3/10\n",
      "1600/1600 [==============================] - 3s 2ms/sample - loss: 1.6707 - accuracy: 0.4288\n",
      "Epoch 4/10\n",
      "1600/1600 [==============================] - 3s 2ms/sample - loss: 1.5748 - accuracy: 0.4638\n",
      "Epoch 5/10\n",
      "1600/1600 [==============================] - 3s 2ms/sample - loss: 1.4591 - accuracy: 0.5013\n",
      "Epoch 6/10\n",
      "1600/1600 [==============================] - 3s 2ms/sample - loss: 1.3503 - accuracy: 0.5531\n",
      "Epoch 7/10\n",
      "1600/1600 [==============================] - 4s 2ms/sample - loss: 1.3028 - accuracy: 0.5125\n",
      "Epoch 8/10\n",
      "1600/1600 [==============================] - 4s 2ms/sample - loss: 1.2060 - accuracy: 0.5481\n",
      "Epoch 9/10\n",
      "1600/1600 [==============================] - 3s 2ms/sample - loss: 0.9653 - accuracy: 0.6525\n",
      "Epoch 10/10\n",
      "1600/1600 [==============================] - 3s 2ms/sample - loss: 0.8478 - accuracy: 0.6869\n",
      "Argmax CopycatCNN (vs. Protected) : 0.38432837\n",
      "Argmax KnockoffNets (vs. Protected) : 0.38432837\n"
     ]
    }
   ],
   "source": [
    "results_protected = []\n",
    "for len_steal in [25, 50, 200, 500, 1000, 1600]:\n",
    "    indices = np.random.permutation(len(X_test))\n",
    "    x_steal = X_test[indices[:len_steal]]\n",
    "    y_steal = y_test[indices[:len_steal]]\n",
    "    _x_test = X_test[indices[len_steal:]]\n",
    "    _y_test = y_test[indices[len_steal:]]\n",
    "\n",
    "    for name, attack in attack_catalogue.items():\n",
    "        model_stolen = load_model(img_height, img_width, y.shape[1])\n",
    "        classifier_stolen = KerasClassifier(model_stolen)\n",
    "        classifier_stolen = attack.extract(x_steal, y_steal, thieved_classifier=classifier_stolen)\n",
    "        acc = classifier_stolen._model.evaluate(_x_test, _y_test)[1]\n",
    "        print(name, \":\", acc)\n",
    "        results_protected.append((name, len_steal, acc))"
   ]
  },
  {
   "cell_type": "code",
   "execution_count": 61,
   "id": "f7c6e522-a2e1-4886-a5f0-641f38ccf80a",
   "metadata": {},
   "outputs": [
    {
     "data": {
      "image/png": "[encoded data removed]",
      "text/plain": [
       "<Figure size 576x432 with 1 Axes>"
      ]
     },
     "metadata": {
      "needs_background": "light"
     },
     "output_type": "display_data"
    }
   ],
   "source": [
    "df_protected = pd.DataFrame(results_protected, columns=('Method Name', 'Stealing Dataset Size', 'Accuracy'))\n",
    "fig, ax = plt.subplots(figsize=(8,6))\n",
    "ax.set_xlabel(\"Stealing Dataset Size\")\n",
    "ax.set_ylabel(\"Stolen Model Accuracy\")\n",
    "for name, group in df_protected.groupby(\"Method Name\"):\n",
    "    group.plot(1, 2, ax=ax, label=name)\n",
    "plt.show()"
   ]
  },
  {
   "cell_type": "markdown",
   "id": "e6cbc1e1-b1ef-4ab3-afe2-08403c4b3bd8",
   "metadata": {},
   "source": [
    "### Discusión\n",
    "\n",
    "Según Hailon y Jun (2021) el rendimiento de los modelos de extracción suele atenuarse si los adversarios obtienen la distribución parcial o distorcionada de la data generada. Para ello existen dos tipos de defensa basada en perturbación:\n",
    "\n",
    "- **De entrada:** Incluye interpolación lineal o semántica de la entrada \n",
    "- **De salida:** Incluye ruido, ejemplos adversariales con ruido, perturbación de filtro o de compresión.\n",
    "\n",
    "\n",
    "Se puede observar que el modelo robado a través de CopyCat o KnockOffCNN sobre un modelo protegido tuvo un menor redimiento a diferencia del modelo robado obtenido a través de un modelo desprotegido. Para proteger al modelo se utilizó una capa extra de postprocesamiento. Esta capa consiste en una función inversa sigmoide que permite agregar ruido o perturbación a la salida del clasificador.\n",
    "\n",
    "### Conclusiones\n",
    "\n",
    "   - Se logró simular un ataque de extracción que consistió en recolectar un dataset con etiquetas robadas para el posterior entrenamiento por medio de CopyCatCNN y KnockOffNets de dos modelos clasificadores.\n",
    "   - Se logró proteger el modelo por medio de perturbación de salida a través de una capa consistía en una función sigmoide inversa.\n",
    "   - Se logró afianzar los conocimientos aprendidos en clase sobre las vulnerabilidades y tipos de ataques que puedan llegar a tener los modelos de clasificación (para este caso, un modelo de caja negra).\n"
   ]
  },
  {
   "cell_type": "markdown",
   "id": "7378a6d4-dcc8-442e-8dce-89197bfda7a5",
   "metadata": {},
   "source": [
    "### Referencias\n",
    "\n",
    "        Hailong H., Jun P.. 2021. Stealing Machine Learning Models: Attacks and Countermeasures for Generative Adversarial Networks. In Annual Computer Security Applications Conference (ACSAC). Association for Computing Machinery, New York, NY, USA, 1–16. https://doi.org/10.1145/3485832.3485838\n",
    "\n",
    "        Correia-Silva, J. R., Berriel, R. F., Badue, C., de Souza, A. F., & Oliveira-Santos, T. (2021). Copycat CNN: Are random non-Labeled data enough to steal knowledge from black-box models? Pattern Recognition, 113, 107830. https://doi.org/10.1016/j.patcog.2021.107830\n",
    "\n",
    "        Tribhuvanesh, O., Schiele, B., & Fritz, M. (2018). Knockoff Nets: Stealing Functionality of Black-Box Models. Max Planck Institute for Informatics. https://arxiv.org/pdf/1812.02766.pdf\n",
    "    "
   ]
  }
 ],
 "metadata": {
  "kernelspec": {
   "display_name": "Python 3 (ipykernel)",
   "language": "python",
   "name": "python3"
  },
  "language_info": {
   "codemirror_mode": {
    "name": "ipython",
    "version": 3
   },
   "file_extension": ".py",
   "mimetype": "text/x-python",
   "name": "python",
   "nbconvert_exporter": "python",
   "pygments_lexer": "ipython3",
   "version": "3.8.10"
  }
 },
 "nbformat": 4,
 "nbformat_minor": 5
}
