{
 "cells": [
  {
   "cell_type": "markdown",
   "id": "2a431f4b-c432-4437-868b-052e6d5e75d9",
   "metadata": {
    "tags": []
   },
   "source": [
    "# Ataque por exracción\n",
    "---\n",
    "\n",
    "#### RobertoFigueroa, Michele Benvenuto, Gustavo Méndez\n",
    "Universidad Del Valle de Guatemala \\\n",
    "Security Data Science \\\n",
    "Proyecto 3 \n",
    "\n",
    "---"
   ]
  },
  {
   "cell_type": "markdown",
   "id": "35e3ef32-32d8-4500-948c-3bb6e9525f2a",
   "metadata": {
    "tags": []
   },
   "source": [
    "### Modelo Original"
   ]
  },
  {
   "cell_type": "code",
   "execution_count": 2,
   "id": "b183d084-89e0-4182-9e1f-b56f1caaef64",
   "metadata": {},
   "outputs": [],
   "source": [
    "import pandas as pd\n",
    "import numpy as np\n",
    "import matplotlib.pyplot as plt\n",
    "import seaborn as sns\n",
    "import matplotlib.image as mpimg\n",
    "\n",
    "import tensorflow as tf\n",
    "from tensorflow.keras.layers import (\n",
    "    Conv2D, \n",
    "    MaxPooling2D,\n",
    "    Dense,\n",
    "    Rescaling,\n",
    "    Flatten,\n",
    "    Dropout\n",
    ")\n",
    "\n",
    "from keras.models import Sequential\n",
    "\n",
    "from sklearn.metrics import (\n",
    "    confusion_matrix, \n",
    "    precision_score, \n",
    "    recall_score, \n",
    "    f1_score, \n",
    "    plot_confusion_matrix, \n",
    "    accuracy_score\n",
    ")\n",
    "\n",
    "from art.estimators.classification import KerasClassifier\n",
    "from sklearn.model_selection import train_test_split\n",
    "\n",
    "import os\n",
    "import warnings\n",
    "warnings.filterwarnings('ignore')\n",
    "\n",
    "%matplotlib inline\n",
    "if tf.executing_eagerly():\n",
    "    tf.compat.v1.disable_eager_execution()"
   ]
  },
  {
   "cell_type": "code",
   "execution_count": 42,
   "id": "18d188b3-c14b-4303-a5c8-a8af724191e1",
   "metadata": {},
   "outputs": [],
   "source": [
    "from art.utils import load_mnist"
   ]
  },
  {
   "cell_type": "code",
   "execution_count": 88,
   "id": "717fda1a-5ade-4a34-99c5-7a5d3f1a253a",
   "metadata": {},
   "outputs": [],
   "source": [
    "(x_train, y_train), (x_test0, y_test0), _, _ = load_mnist()"
   ]
  },
  {
   "cell_type": "code",
   "execution_count": 89,
   "id": "5652797a-3ab8-4d20-9e11-0d5efec1648c",
   "metadata": {},
   "outputs": [
    {
     "data": {
      "text/plain": [
       "(60000, 10)"
      ]
     },
     "execution_count": 89,
     "metadata": {},
     "output_type": "execute_result"
    }
   ],
   "source": [
    "y_train.shape"
   ]
  },
  {
   "cell_type": "code",
   "execution_count": 3,
   "id": "77aa8186-ea27-4b89-82be-c8a53aec7c3f",
   "metadata": {},
   "outputs": [],
   "source": [
    "def get_train_test(data_dir, batch_size=32, img_height=64, img_width=64):\n",
    "    \n",
    "    ig = tf.keras.preprocessing.image.ImageDataGenerator()\n",
    "    data = ig.flow_from_directory(directory=data_dir, \n",
    "                                     target_size=(img_height, img_width), \n",
    "                                     batch_size=batch_size,\n",
    "                                     seed=123)\n",
    "\n",
    "    X, y = data.next()\n",
    "    \n",
    "    return X, y"
   ]
  },
  {
   "cell_type": "code",
   "execution_count": 39,
   "id": "d2b5dcbd-ff9f-4b02-b729-4330b934ce0c",
   "metadata": {},
   "outputs": [],
   "source": [
    "def load_model(img_height, img_width, num_classes):\n",
    "    model = Sequential([\n",
    "    Rescaling(1./255, input_shape=(img_height, img_width, 3)),\n",
    "    Conv2D(16, 3, padding='same', activation='relu'),\n",
    "    MaxPooling2D(),\n",
    "    Conv2D(32, 3, padding='same', activation='relu'),\n",
    "    MaxPooling2D(),\n",
    "    Conv2D(64, 3, padding='same', activation='relu'),\n",
    "    MaxPooling2D(),\n",
    "    Dropout(0.2),\n",
    "    Flatten(),\n",
    "    Dense(128, activation='relu'),\n",
    "    Dense(num_classes)\n",
    "    ])\n",
    "    \n",
    "    model.compile(loss=tf.keras.losses.CategoricalCrossentropy(from_logits=True), optimizer=\"adam\",\n",
    "                                                                  metrics=['accuracy'])\n",
    "    \n",
    "    return model"
   ]
  },
  {
   "cell_type": "code",
   "execution_count": 5,
   "id": "df0c281b-10ee-44d7-9e65-7f44e8bd20a0",
   "metadata": {},
   "outputs": [],
   "source": [
    "def get_metrics(y_val, predictions, model_name):\n",
    "    conf_matrix = confusion_matrix(y_val, predictions, labels=list(range(1,26)))\n",
    "    accu = accuracy_score(y_val, predictions)\n",
    "    _recall_score = recall_score(y_val, predictions, average='weighted')\n",
    "    _precision_score = precision_score(y_val, predictions, average='weighted')\n",
    "    _f1_score = f1_score(y_val, predictions, average='weighted')\n",
    "\n",
    "    print(f\"\\n---Metrics for {model_name}---\")\n",
    "    #print(\"\\n Confusion Matrix\\n\", conf_matrix)\n",
    "    print(\"\\n Accuracy\", accu)\n",
    "    print(\"\\n Precision\", _precision_score)\n",
    "    print(\"\\n Recall\", _recall_score)\n",
    "    print(\"\\n F1 Score\", _f1_score)\n",
    "    \n",
    "    return conf_matrix\n"
   ]
  },
  {
   "cell_type": "markdown",
   "id": "d22ba577-fd95-48ad-8b09-9f67d97a89f5",
   "metadata": {},
   "source": [
    "#### Entrenamiento Modelo Original"
   ]
  },
  {
   "cell_type": "code",
   "execution_count": 6,
   "id": "11484998-a00d-43c2-8253-aa9413d05b95",
   "metadata": {},
   "outputs": [
    {
     "name": "stdout",
     "output_type": "stream",
     "text": [
      "Found 9339 images belonging to 25 classes.\n"
     ]
    }
   ],
   "source": [
    "DIR = './data/malimg_paper_dataset_imgs/' \n",
    "batch_size=9339\n",
    "img_height=64\n",
    "img_width=64\n",
    "X, y = get_train_test(DIR, batch_size, img_height, img_width)"
   ]
  },
  {
   "cell_type": "code",
   "execution_count": 35,
   "id": "daca1a18-4702-459a-b528-2e7788a8a90a",
   "metadata": {},
   "outputs": [],
   "source": [
    "X_train, X_test, y_train, y_test = train_test_split(X, y, train_size=0.8, random_state=79)"
   ]
  },
  {
   "cell_type": "code",
   "execution_count": 36,
   "id": "fecdcb10-fa44-4f1c-affc-03d38c2d2bb8",
   "metadata": {},
   "outputs": [
    {
     "name": "stdout",
     "output_type": "stream",
     "text": [
      "(1868, 64, 64, 3)\n",
      "(1868, 25)\n"
     ]
    }
   ],
   "source": [
    "print(X_test.shape)\n",
    "print(y_test.shape)"
   ]
  },
  {
   "cell_type": "code",
   "execution_count": 9,
   "id": "81b7b8ea-1078-45fd-8488-a6b75b46e3cb",
   "metadata": {},
   "outputs": [
    {
     "name": "stderr",
     "output_type": "stream",
     "text": [
      "2022-05-23 22:58:47.813264: I tensorflow/stream_executor/cuda/cuda_gpu_executor.cc:936] successful NUMA node read from SysFS had negative value (-1), but there must be at least one NUMA node, so returning NUMA node zero\n",
      "2022-05-23 22:58:47.813703: W tensorflow/stream_executor/platform/default/dso_loader.cc:64] Could not load dynamic library 'libcudart.so.11.0'; dlerror: libcudart.so.11.0: cannot open shared object file: No such file or directory\n",
      "2022-05-23 22:58:47.813777: W tensorflow/stream_executor/platform/default/dso_loader.cc:64] Could not load dynamic library 'libcublas.so.11'; dlerror: libcublas.so.11: cannot open shared object file: No such file or directory\n",
      "2022-05-23 22:58:47.813843: W tensorflow/stream_executor/platform/default/dso_loader.cc:64] Could not load dynamic library 'libcublasLt.so.11'; dlerror: libcublasLt.so.11: cannot open shared object file: No such file or directory\n",
      "2022-05-23 22:58:47.815678: W tensorflow/stream_executor/platform/default/dso_loader.cc:64] Could not load dynamic library 'libcusolver.so.11'; dlerror: libcusolver.so.11: cannot open shared object file: No such file or directory\n",
      "2022-05-23 22:58:47.815757: W tensorflow/stream_executor/platform/default/dso_loader.cc:64] Could not load dynamic library 'libcusparse.so.11'; dlerror: libcusparse.so.11: cannot open shared object file: No such file or directory\n",
      "2022-05-23 22:58:47.815823: W tensorflow/stream_executor/platform/default/dso_loader.cc:64] Could not load dynamic library 'libcudnn.so.8'; dlerror: libcudnn.so.8: cannot open shared object file: No such file or directory\n",
      "2022-05-23 22:58:47.815835: W tensorflow/core/common_runtime/gpu/gpu_device.cc:1850] Cannot dlopen some GPU libraries. Please make sure the missing libraries mentioned above are installed properly if you would like to use GPU. Follow the guide at https://www.tensorflow.org/install/gpu for how to download and setup the required libraries for your platform.\n",
      "Skipping registering GPU devices...\n"
     ]
    }
   ],
   "source": [
    "model = load_model(img_height, img_width, y.shape[1])"
   ]
  },
  {
   "cell_type": "code",
   "execution_count": 11,
   "id": "921d82b4-be09-45bc-851c-fe065bafb909",
   "metadata": {},
   "outputs": [
    {
     "name": "stdout",
     "output_type": "stream",
     "text": [
      "Train on 7471 samples\n",
      "Epoch 1/10\n"
     ]
    },
    {
     "name": "stderr",
     "output_type": "stream",
     "text": [
      "2022-05-23 22:58:48.165388: I tensorflow/core/platform/cpu_feature_guard.cc:151] This TensorFlow binary is optimized with oneAPI Deep Neural Network Library (oneDNN) to use the following CPU instructions in performance-critical operations:  AVX2 FMA\n",
      "To enable them in other operations, rebuild TensorFlow with the appropriate compiler flags.\n"
     ]
    },
    {
     "name": "stdout",
     "output_type": "stream",
     "text": [
      "7471/7471 [==============================] - 18s 2ms/sample - loss: 1.0556 - accuracy: 0.6784\n",
      "Epoch 2/10\n",
      "7471/7471 [==============================] - 17s 2ms/sample - loss: 0.2343 - accuracy: 0.9371\n",
      "Epoch 3/10\n",
      "7471/7471 [==============================] - 17s 2ms/sample - loss: 0.1371 - accuracy: 0.9598\n",
      "Epoch 4/10\n",
      "7471/7471 [==============================] - 17s 2ms/sample - loss: 0.1107 - accuracy: 0.9627\n",
      "Epoch 5/10\n",
      "7471/7471 [==============================] - 17s 2ms/sample - loss: 0.0901 - accuracy: 0.9697\n",
      "Epoch 6/10\n",
      "7471/7471 [==============================] - 17s 2ms/sample - loss: 0.0643 - accuracy: 0.9779\n",
      "Epoch 7/10\n",
      "7471/7471 [==============================] - 21s 3ms/sample - loss: 0.0423 - accuracy: 0.9859\n",
      "Epoch 8/10\n",
      "7471/7471 [==============================] - 16s 2ms/sample - loss: 0.0289 - accuracy: 0.9902\n",
      "Epoch 9/10\n",
      "7471/7471 [==============================] - 16s 2ms/sample - loss: 0.0237 - accuracy: 0.9914\n",
      "Epoch 10/10\n",
      "7471/7471 [==============================] - 16s 2ms/sample - loss: 0.0166 - accuracy: 0.9936\n"
     ]
    }
   ],
   "source": [
    "epochs=10\n",
    "history = model.fit(\n",
    "    x=X_train,\n",
    "    y=y_train,\n",
    "    epochs=epochs,\n",
    "    batch_size=32\n",
    ")"
   ]
  },
  {
   "cell_type": "markdown",
   "id": "23e93373-02db-4c78-9704-d17f5259156a",
   "metadata": {},
   "source": [
    "#### Pruebas modelo original"
   ]
  },
  {
   "cell_type": "code",
   "execution_count": 22,
   "id": "ed8a06e6-84cc-4227-88b1-d015cad98b38",
   "metadata": {},
   "outputs": [
    {
     "name": "stdout",
     "output_type": "stream",
     "text": [
      "[0.05460656037849795, 0.9828694]\n"
     ]
    }
   ],
   "source": [
    "print(model.evaluate(X_test, y_test))"
   ]
  },
  {
   "cell_type": "markdown",
   "id": "ea257fb8-ce15-46b0-b2e8-57ee7388c86b",
   "metadata": {
    "tags": []
   },
   "source": [
    "### Robo de modelo"
   ]
  },
  {
   "cell_type": "code",
   "execution_count": 23,
   "id": "0a696c0e-022f-4ec4-a168-7c95f7fc468c",
   "metadata": {},
   "outputs": [],
   "source": [
    "# Documentation: https://adversarial-robustness-toolbox.readthedocs.io/en/latest/modules/attacks/extraction.html#copycat-cnn\n",
    "# Ref: https://github.com/Trusted-AI/adversarial-robustness-toolbox/blob/main/notebooks/model-stealing-demo.ipynb\n",
    "from art.attacks import ExtractionAttack\n",
    "from art.attacks.extraction import CopycatCNN, KnockoffNets"
   ]
  },
  {
   "cell_type": "code",
   "execution_count": 43,
   "id": "2aa6428f-f463-455a-9652-1e6d7bd14e0f",
   "metadata": {},
   "outputs": [],
   "source": [
    "num_epochs = 10\n",
    "len_steal = 1600"
   ]
  },
  {
   "cell_type": "code",
   "execution_count": 25,
   "id": "0091ae59-9612-43b4-9a6d-131bcab44a7f",
   "metadata": {},
   "outputs": [],
   "source": [
    "og_model = KerasClassifier(model)"
   ]
  },
  {
   "cell_type": "code",
   "execution_count": 44,
   "id": "bfa7ac22-c3ad-4998-a070-ee01ae7e52bb",
   "metadata": {},
   "outputs": [],
   "source": [
    "attack_catalogue = {\"Probabilistic CopycatCNN\": CopycatCNN(classifier=og_model,\n",
    "                                              batch_size_fit=64,\n",
    "                                              batch_size_query=64,\n",
    "                                              nb_epochs=num_epochs,\n",
    "                                              nb_stolen=len_steal,\n",
    "                                              use_probability=True),\n",
    "                    \"Argmax CopycatCNN\": CopycatCNN(classifier=og_model,\n",
    "                                              batch_size_fit=64,\n",
    "                                              batch_size_query=64,\n",
    "                                              nb_epochs=num_epochs,\n",
    "                                              nb_stolen=len_steal,\n",
    "                                              use_probability=False),\n",
    "                    \"Probabilistic KnockoffNets\": KnockoffNets(classifier=og_model,\n",
    "                                              batch_size_fit=64,\n",
    "                                              batch_size_query=64,\n",
    "                                              nb_epochs=num_epochs,\n",
    "                                              nb_stolen=len_steal,\n",
    "                                              use_probability=True),\n",
    "                    \"Argmax KnockoffNets\": KnockoffNets(classifier=og_model,\n",
    "                                              batch_size_fit=64,\n",
    "                                              batch_size_query=64,\n",
    "                                              nb_epochs=num_epochs,\n",
    "                                              nb_stolen=len_steal,\n",
    "                                              use_probability=False),\n",
    "                   }"
   ]
  },
  {
   "cell_type": "code",
   "execution_count": 45,
   "id": "6e78b175-aea0-4a92-b7e3-cc165a8788c0",
   "metadata": {},
   "outputs": [
    {
     "name": "stdout",
     "output_type": "stream",
     "text": [
      "Train on 25 samples\n",
      "Epoch 1/10\n",
      "25/25 [==============================] - 0s 12ms/sample - loss: -274.5741 - accuracy: 0.0000e+00\n",
      "Epoch 2/10\n",
      "25/25 [==============================] - 0s 3ms/sample - loss: -331.4222 - accuracy: 0.0000e+00\n",
      "Epoch 3/10\n",
      "25/25 [==============================] - 0s 3ms/sample - loss: -436.7187 - accuracy: 0.0000e+00\n",
      "Epoch 4/10\n",
      "25/25 [==============================] - 0s 3ms/sample - loss: -652.9750 - accuracy: 0.0000e+00\n",
      "Epoch 5/10\n",
      "25/25 [==============================] - 0s 3ms/sample - loss: -1030.6742 - accuracy: 0.0000e+00\n",
      "Epoch 6/10\n",
      "25/25 [==============================] - 0s 3ms/sample - loss: -1640.0073 - accuracy: 0.0000e+00\n",
      "Epoch 7/10\n",
      "25/25 [==============================] - 0s 3ms/sample - loss: -2525.7041 - accuracy: 0.0000e+00\n",
      "Epoch 8/10\n",
      "25/25 [==============================] - 0s 3ms/sample - loss: -3774.0903 - accuracy: 0.0000e+00\n",
      "Epoch 9/10\n",
      "25/25 [==============================] - 0s 3ms/sample - loss: -5544.6089 - accuracy: 0.0000e+00\n",
      "Epoch 10/10\n",
      "25/25 [==============================] - 0s 3ms/sample - loss: -7979.3608 - accuracy: 0.0000e+00\n",
      "Probabilistic CopycatCNN : 0.013022247\n",
      "Train on 25 samples\n",
      "Epoch 1/10\n",
      "25/25 [==============================] - 0s 13ms/sample - loss: 3.3243 - accuracy: 0.0000e+00\n",
      "Epoch 2/10\n",
      "25/25 [==============================] - 0s 3ms/sample - loss: 2.6269 - accuracy: 0.4000\n",
      "Epoch 3/10\n",
      "25/25 [==============================] - 0s 3ms/sample - loss: 2.6564 - accuracy: 0.4000\n",
      "Epoch 4/10\n",
      "25/25 [==============================] - 0s 4ms/sample - loss: 2.3430 - accuracy: 0.4000\n",
      "Epoch 5/10\n",
      "25/25 [==============================] - 0s 3ms/sample - loss: 2.3572 - accuracy: 0.4000\n",
      "Epoch 6/10\n",
      "25/25 [==============================] - 0s 4ms/sample - loss: 2.2915 - accuracy: 0.4000\n",
      "Epoch 7/10\n",
      "25/25 [==============================] - 0s 4ms/sample - loss: 2.1301 - accuracy: 0.4000\n",
      "Epoch 8/10\n",
      "25/25 [==============================] - 0s 4ms/sample - loss: 2.0305 - accuracy: 0.4000\n",
      "Epoch 9/10\n",
      "25/25 [==============================] - 0s 4ms/sample - loss: 2.0816 - accuracy: 0.4000\n",
      "Epoch 10/10\n",
      "25/25 [==============================] - 0s 4ms/sample - loss: 2.0085 - accuracy: 0.4000\n",
      "Argmax CopycatCNN : 0.30548018\n",
      "Probabilistic KnockoffNets : 0.30548018\n",
      "Argmax KnockoffNets : 0.30548018\n",
      "Train on 50 samples\n",
      "Epoch 1/10\n",
      "50/50 [==============================] - 0s 8ms/sample - loss: -262.2657 - accuracy: 0.0000e+00\n",
      "Epoch 2/10\n",
      "50/50 [==============================] - 0s 2ms/sample - loss: -345.7568 - accuracy: 0.1000\n",
      "Epoch 3/10\n",
      "50/50 [==============================] - 0s 2ms/sample - loss: -507.4855 - accuracy: 0.0200\n",
      "Epoch 4/10\n",
      "50/50 [==============================] - 0s 2ms/sample - loss: -817.5497 - accuracy: 0.0200\n",
      "Epoch 5/10\n",
      "50/50 [==============================] - 0s 2ms/sample - loss: -1344.9011 - accuracy: 0.0200\n",
      "Epoch 6/10\n",
      "50/50 [==============================] - 0s 2ms/sample - loss: -2127.1257 - accuracy: 0.0200\n",
      "Epoch 7/10\n",
      "50/50 [==============================] - 0s 2ms/sample - loss: -3256.6838 - accuracy: 0.0200\n",
      "Epoch 8/10\n",
      "50/50 [==============================] - 0s 2ms/sample - loss: -4820.6011 - accuracy: 0.0200\n",
      "Epoch 9/10\n",
      "50/50 [==============================] - 0s 2ms/sample - loss: -6906.0830 - accuracy: 0.0200\n",
      "Epoch 10/10\n",
      "50/50 [==============================] - 0s 2ms/sample - loss: -9742.0840 - accuracy: 0.0200\n",
      "Probabilistic CopycatCNN : 0.043454345\n",
      "Train on 50 samples\n",
      "Epoch 1/10\n",
      "50/50 [==============================] - 0s 8ms/sample - loss: 3.2113 - accuracy: 0.0400\n",
      "Epoch 2/10\n",
      "50/50 [==============================] - 0s 2ms/sample - loss: 2.5902 - accuracy: 0.4000\n",
      "Epoch 3/10\n",
      "50/50 [==============================] - 0s 2ms/sample - loss: 2.2947 - accuracy: 0.4000\n",
      "Epoch 4/10\n",
      "50/50 [==============================] - 0s 2ms/sample - loss: 2.3535 - accuracy: 0.4000\n",
      "Epoch 5/10\n",
      "50/50 [==============================] - 0s 2ms/sample - loss: 2.1679 - accuracy: 0.4000\n",
      "Epoch 6/10\n",
      "50/50 [==============================] - 0s 2ms/sample - loss: 2.1353 - accuracy: 0.4000\n",
      "Epoch 7/10\n",
      "50/50 [==============================] - 0s 2ms/sample - loss: 2.1304 - accuracy: 0.4000\n",
      "Epoch 8/10\n",
      "50/50 [==============================] - 0s 2ms/sample - loss: 2.1070 - accuracy: 0.4000\n",
      "Epoch 9/10\n",
      "50/50 [==============================] - 0s 2ms/sample - loss: 2.0518 - accuracy: 0.4000\n",
      "Epoch 10/10\n",
      "50/50 [==============================] - 0s 2ms/sample - loss: 2.0136 - accuracy: 0.4000\n",
      "Argmax CopycatCNN : 0.3041804\n",
      "Probabilistic KnockoffNets : 0.3041804\n",
      "Argmax KnockoffNets : 0.3041804\n",
      "Train on 200 samples\n",
      "Epoch 1/10\n",
      "200/200 [==============================] - 1s 5ms/sample - loss: -356.1485 - accuracy: 0.0050\n",
      "Epoch 2/10\n",
      "200/200 [==============================] - 1s 3ms/sample - loss: -1656.7692 - accuracy: 0.0050\n",
      "Epoch 3/10\n",
      "200/200 [==============================] - 1s 3ms/sample - loss: -7032.6960 - accuracy: 0.0050\n",
      "Epoch 4/10\n",
      "200/200 [==============================] - 1s 3ms/sample - loss: -22187.7425 - accuracy: 0.0050\n",
      "Epoch 5/10\n",
      "200/200 [==============================] - 1s 3ms/sample - loss: -60579.4269 - accuracy: 0.0050\n",
      "Epoch 6/10\n",
      "200/200 [==============================] - 1s 3ms/sample - loss: -150123.0800 - accuracy: 0.0100\n",
      "Epoch 7/10\n",
      "200/200 [==============================] - 1s 3ms/sample - loss: -346675.2600 - accuracy: 0.0050\n",
      "Epoch 8/10\n",
      "200/200 [==============================] - 1s 3ms/sample - loss: -763996.0200 - accuracy: 0.1550\n",
      "Epoch 9/10\n",
      "200/200 [==============================] - 1s 3ms/sample - loss: -1594496.8500 - accuracy: 0.2750\n",
      "Epoch 10/10\n",
      "200/200 [==============================] - 0s 2ms/sample - loss: -3170345.8000 - accuracy: 0.2750\n",
      "Probabilistic CopycatCNN : 0.31055155\n",
      "Train on 200 samples\n",
      "Epoch 1/10\n",
      "200/200 [==============================] - 1s 4ms/sample - loss: 2.8674 - accuracy: 0.1600\n",
      "Epoch 2/10\n",
      "200/200 [==============================] - 1s 3ms/sample - loss: 2.5285 - accuracy: 0.2750\n",
      "Epoch 3/10\n",
      "200/200 [==============================] - 1s 3ms/sample - loss: 2.4686 - accuracy: 0.2700\n",
      "Epoch 4/10\n",
      "200/200 [==============================] - 0s 2ms/sample - loss: 2.3959 - accuracy: 0.2850\n",
      "Epoch 5/10\n",
      "200/200 [==============================] - 0s 2ms/sample - loss: 2.3026 - accuracy: 0.2750\n",
      "Epoch 6/10\n",
      "200/200 [==============================] - 0s 2ms/sample - loss: 2.2227 - accuracy: 0.3750\n",
      "Epoch 7/10\n",
      "200/200 [==============================] - 0s 2ms/sample - loss: 2.0774 - accuracy: 0.3950\n",
      "Epoch 8/10\n",
      "200/200 [==============================] - 0s 2ms/sample - loss: 1.9611 - accuracy: 0.4150\n",
      "Epoch 9/10\n",
      "200/200 [==============================] - 0s 2ms/sample - loss: 1.8026 - accuracy: 0.4150\n",
      "Epoch 10/10\n",
      "200/200 [==============================] - 0s 2ms/sample - loss: 1.6920 - accuracy: 0.4100\n",
      "Argmax CopycatCNN : 0.4358513\n",
      "Probabilistic KnockoffNets : 0.043165468\n",
      "Argmax KnockoffNets : 0.45143884\n",
      "Train on 500 samples\n",
      "Epoch 1/10\n",
      "500/500 [==============================] - 1s 3ms/sample - loss: -1248.6434 - accuracy: 0.2540\n",
      "Epoch 2/10\n",
      "500/500 [==============================] - 1s 2ms/sample - loss: -20545.5126 - accuracy: 0.2840\n",
      "Epoch 3/10\n",
      "500/500 [==============================] - 1s 2ms/sample - loss: -159539.7578 - accuracy: 0.2840\n",
      "Epoch 4/10\n",
      "500/500 [==============================] - 1s 2ms/sample - loss: -837720.1870 - accuracy: 0.2840\n",
      "Epoch 5/10\n",
      "500/500 [==============================] - 1s 2ms/sample - loss: -3463742.0040 - accuracy: 0.2840\n",
      "Epoch 6/10\n",
      "500/500 [==============================] - 1s 2ms/sample - loss: -11576349.8400 - accuracy: 0.2840\n",
      "Epoch 7/10\n",
      "500/500 [==============================] - 1s 2ms/sample - loss: -33396877.3760 - accuracy: 0.2840\n",
      "Epoch 8/10\n",
      "500/500 [==============================] - 1s 2ms/sample - loss: -86727080.5760 - accuracy: 0.2840\n",
      "Epoch 9/10\n",
      "500/500 [==============================] - 1s 2ms/sample - loss: -200945928.3200 - accuracy: 0.2840\n",
      "Epoch 10/10\n",
      "500/500 [==============================] - 1s 2ms/sample - loss: -432343071.2320 - accuracy: 0.2840\n",
      "Probabilistic CopycatCNN : 0.31505847\n",
      "Train on 500 samples\n",
      "Epoch 1/10\n",
      "500/500 [==============================] - 2s 3ms/sample - loss: 2.7467 - accuracy: 0.2140\n",
      "Epoch 2/10\n",
      "500/500 [==============================] - 1s 2ms/sample - loss: 2.4606 - accuracy: 0.2880\n",
      "Epoch 3/10\n",
      "500/500 [==============================] - 1s 3ms/sample - loss: 2.2382 - accuracy: 0.3620\n",
      "Epoch 4/10\n",
      "500/500 [==============================] - 1s 2ms/sample - loss: 1.9425 - accuracy: 0.3960\n",
      "Epoch 5/10\n",
      "500/500 [==============================] - 1s 2ms/sample - loss: 1.6388 - accuracy: 0.4680\n",
      "Epoch 6/10\n",
      "500/500 [==============================] - 1s 2ms/sample - loss: 1.3079 - accuracy: 0.5500\n",
      "Epoch 7/10\n",
      "500/500 [==============================] - 1s 2ms/sample - loss: 0.9999 - accuracy: 0.6800\n",
      "Epoch 8/10\n",
      "500/500 [==============================] - 1s 2ms/sample - loss: 0.7862 - accuracy: 0.7040\n",
      "Epoch 9/10\n",
      "500/500 [==============================] - 1s 3ms/sample - loss: 0.6464 - accuracy: 0.7400\n",
      "Epoch 10/10\n",
      "500/500 [==============================] - 1s 2ms/sample - loss: 0.5234 - accuracy: 0.8020\n",
      "Argmax CopycatCNN : 0.6447368\n",
      "Probabilistic KnockoffNets : 0.019005848\n",
      "Argmax KnockoffNets : 0.76681286\n",
      "Train on 1000 samples\n",
      "Epoch 1/10\n",
      "1000/1000 [==============================] - 3s 3ms/sample - loss: -6840.5529 - accuracy: 0.2610\n",
      "Epoch 2/10\n",
      "1000/1000 [==============================] - 2s 2ms/sample - loss: -374903.0875 - accuracy: 0.3120\n",
      "Epoch 3/10\n",
      "1000/1000 [==============================] - 2s 2ms/sample - loss: -6339296.7040 - accuracy: 0.3120\n",
      "Epoch 4/10\n",
      "1000/1000 [==============================] - 2s 2ms/sample - loss: -54031197.2480 - accuracy: 0.3120\n",
      "Epoch 5/10\n",
      "1000/1000 [==============================] - 2s 2ms/sample - loss: -297703169.5360 - accuracy: 0.3120\n",
      "Epoch 6/10\n",
      "1000/1000 [==============================] - 2s 2ms/sample - loss: -1182630299.6480 - accuracy: 0.3120\n",
      "Epoch 7/10\n",
      "1000/1000 [==============================] - 2s 2ms/sample - loss: -3815375626.2400 - accuracy: 0.3120\n",
      "Epoch 8/10\n",
      "1000/1000 [==============================] - 2s 2ms/sample - loss: -10180366467.0720 - accuracy: 0.3120\n",
      "Epoch 9/10\n",
      "1000/1000 [==============================] - 2s 2ms/sample - loss: -24047689269.2480 - accuracy: 0.3120\n",
      "Epoch 10/10\n",
      "1000/1000 [==============================] - 2s 2ms/sample - loss: -51174615285.7600 - accuracy: 0.3120\n",
      "Probabilistic CopycatCNN : 0.30069125\n",
      "Train on 1000 samples\n",
      "Epoch 1/10\n",
      "1000/1000 [==============================] - 3s 3ms/sample - loss: 2.5392 - accuracy: 0.2690\n",
      "Epoch 2/10\n",
      "1000/1000 [==============================] - 2s 2ms/sample - loss: 2.1078 - accuracy: 0.3960\n",
      "Epoch 3/10\n",
      "1000/1000 [==============================] - 2s 2ms/sample - loss: 1.6527 - accuracy: 0.4580\n",
      "Epoch 4/10\n",
      "1000/1000 [==============================] - 2s 2ms/sample - loss: 1.2781 - accuracy: 0.5430\n",
      "Epoch 5/10\n",
      "1000/1000 [==============================] - 2s 2ms/sample - loss: 0.9266 - accuracy: 0.6450\n",
      "Epoch 6/10\n",
      "1000/1000 [==============================] - 2s 2ms/sample - loss: 0.6583 - accuracy: 0.7910\n",
      "Epoch 7/10\n",
      "1000/1000 [==============================] - 2s 2ms/sample - loss: 0.5101 - accuracy: 0.8150\n",
      "Epoch 8/10\n",
      "1000/1000 [==============================] - 2s 2ms/sample - loss: 0.5580 - accuracy: 0.7790\n",
      "Epoch 9/10\n",
      "1000/1000 [==============================] - 2s 2ms/sample - loss: 0.4390 - accuracy: 0.8510\n",
      "Epoch 10/10\n",
      "1000/1000 [==============================] - 2s 2ms/sample - loss: 0.3432 - accuracy: 0.8800\n",
      "Argmax CopycatCNN : 0.8652074\n",
      "Probabilistic KnockoffNets : 0.30069125\n",
      "Argmax KnockoffNets : 0.8859447\n",
      "Train on 1600 samples\n",
      "Epoch 1/10\n",
      "1600/1600 [==============================] - 4s 2ms/sample - loss: -75082.3045 - accuracy: 0.2862\n",
      "Epoch 2/10\n",
      "1600/1600 [==============================] - 4s 2ms/sample - loss: -6889118.6787 - accuracy: 0.3031\n",
      "Epoch 3/10\n",
      "1600/1600 [==============================] - 4s 2ms/sample - loss: -139169488.3200 - accuracy: 0.3031\n",
      "Epoch 4/10\n",
      "1600/1600 [==============================] - 3s 2ms/sample - loss: -1246202186.2400 - accuracy: 0.3031\n",
      "Epoch 5/10\n",
      "1600/1600 [==============================] - 3s 2ms/sample - loss: -6693411000.3200 - accuracy: 0.3031\n",
      "Epoch 6/10\n",
      "1600/1600 [==============================] - 3s 2ms/sample - loss: -25548867584.0000 - accuracy: 0.3031\n",
      "Epoch 7/10\n",
      "1600/1600 [==============================] - 3s 2ms/sample - loss: -77177511280.6400 - accuracy: 0.3031\n",
      "Epoch 8/10\n",
      "1600/1600 [==============================] - 3s 2ms/sample - loss: -195253749350.4000 - accuracy: 0.3031\n",
      "Epoch 9/10\n",
      "1600/1600 [==============================] - 3s 2ms/sample - loss: -435639902535.6800 - accuracy: 0.3031\n",
      "Epoch 10/10\n",
      "1600/1600 [==============================] - 3s 2ms/sample - loss: -879862121758.7200 - accuracy: 0.3031\n",
      "Probabilistic CopycatCNN : 0.3283582\n",
      "Train on 1600 samples\n",
      "Epoch 1/10\n",
      "1600/1600 [==============================] - 4s 2ms/sample - loss: 2.4572 - accuracy: 0.2800\n",
      "Epoch 2/10\n",
      "1600/1600 [==============================] - 4s 2ms/sample - loss: 1.7012 - accuracy: 0.4681\n",
      "Epoch 3/10\n",
      "1600/1600 [==============================] - 4s 2ms/sample - loss: 0.9946 - accuracy: 0.6575\n",
      "Epoch 4/10\n",
      "1600/1600 [==============================] - 4s 2ms/sample - loss: 0.7100 - accuracy: 0.7344\n",
      "Epoch 5/10\n",
      "1600/1600 [==============================] - 4s 2ms/sample - loss: 0.5381 - accuracy: 0.8369\n",
      "Epoch 6/10\n",
      "1600/1600 [==============================] - 4s 2ms/sample - loss: 0.4308 - accuracy: 0.8494\n",
      "Epoch 7/10\n",
      "1600/1600 [==============================] - 4s 2ms/sample - loss: 0.3234 - accuracy: 0.9031\n",
      "Epoch 8/10\n",
      "1600/1600 [==============================] - 4s 2ms/sample - loss: 0.2486 - accuracy: 0.9250\n",
      "Epoch 9/10\n",
      "1600/1600 [==============================] - 4s 2ms/sample - loss: 0.2132 - accuracy: 0.9394\n",
      "Epoch 10/10\n",
      "1600/1600 [==============================] - 4s 2ms/sample - loss: 0.1631 - accuracy: 0.9600\n",
      "Argmax CopycatCNN : 0.95522386\n",
      "Probabilistic KnockoffNets : 0.3283582\n",
      "Argmax KnockoffNets : 0.9328358\n"
     ]
    }
   ],
   "source": [
    "results = []\n",
    "for len_steal in [25, 50, 200, 500, 1000, 1600]:\n",
    "    indices = np.random.permutation(len(X_test))\n",
    "    x_steal = X_test[indices[:len_steal]]\n",
    "    y_steal = y_test[indices[:len_steal]]\n",
    "    _x_test = X_test[indices[len_steal:]]\n",
    "    _y_test = y_test[indices[len_steal:]]\n",
    "\n",
    "    for name, attack in attack_catalogue.items():\n",
    "        model_stolen = load_model(img_height, img_width, y.shape[1])\n",
    "        classifier_stolen = KerasClassifier(model_stolen)\n",
    "        classifier_stolen = attack.extract(x_steal, y_steal, thieved_classifier=classifier_stolen)\n",
    "        acc = classifier_stolen._model.evaluate(_x_test, _y_test)[1]\n",
    "        print(name, \":\", acc)\n",
    "        results.append((name, len_steal, acc))"
   ]
  },
  {
   "cell_type": "code",
   "execution_count": 46,
   "id": "0152ba73-7df7-4557-a144-d16304d8335a",
   "metadata": {},
   "outputs": [
    {
     "data": {
      "image/png": "[encoded data removed]",
      "text/plain": [
       "<Figure size 576x432 with 1 Axes>"
      ]
     },
     "metadata": {
      "needs_background": "light"
     },
     "output_type": "display_data"
    }
   ],
   "source": [
    "df = pd.DataFrame(results, columns=('Nombre del método', 'Tamaño del dataset robado', 'Accuracy'))\n",
    "fig, ax = plt.subplots(figsize=(8,6))\n",
    "ax.set_xlabel(\"Tamaño del dataset robado\")\n",
    "ax.set_ylabel(\"Accuracy Modelo Robado\")\n",
    "for name, group in df.groupby(\"Nombre del método\"):\n",
    "    group.plot(1, 2, ax=ax, label=name)\n",
    "plt.show()"
   ]
  }
 ],
 "metadata": {
  "kernelspec": {
   "display_name": "Python 3 (ipykernel)",
   "language": "python",
   "name": "python3"
  },
  "language_info": {
   "codemirror_mode": {
    "name": "ipython",
    "version": 3
   },
   "file_extension": ".py",
   "mimetype": "text/x-python",
   "name": "python",
   "nbconvert_exporter": "python",
   "pygments_lexer": "ipython3",
   "version": "3.8.10"
  }
 },
 "nbformat": 4,
 "nbformat_minor": 5
}
